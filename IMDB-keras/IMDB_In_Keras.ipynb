{
  "nbformat": 4,
  "nbformat_minor": 0,
  "metadata": {
    "kernelspec": {
      "display_name": "Python 3",
      "language": "python",
      "name": "python3"
    },
    "language_info": {
      "codemirror_mode": {
        "name": "ipython",
        "version": 3
      },
      "file_extension": ".py",
      "mimetype": "text/x-python",
      "name": "python",
      "nbconvert_exporter": "python",
      "pygments_lexer": "ipython3",
      "version": "3.6.1"
    },
    "colab": {
      "name": "IMDB_In_Keras.ipynb",
      "version": "0.3.2",
      "provenance": [],
      "include_colab_link": true
    }
  },
  "cells": [
    {
      "cell_type": "markdown",
      "metadata": {
        "id": "view-in-github",
        "colab_type": "text"
      },
      "source": [
        "<a href=\"https://colab.research.google.com/github/joaopamaral/deep-learning/blob/master/IMDB-keras/IMDB_In_Keras.ipynb\" target=\"_parent\"><img src=\"https://colab.research.google.com/assets/colab-badge.svg\" alt=\"Open In Colab\"/></a>"
      ]
    },
    {
      "cell_type": "markdown",
      "metadata": {
        "id": "xoih6fCu-tZp",
        "colab_type": "text"
      },
      "source": [
        "# Analyzing IMDB Data in Keras"
      ]
    },
    {
      "cell_type": "code",
      "metadata": {
        "id": "-bXsq_j6-tZq",
        "colab_type": "code",
        "colab": {}
      },
      "source": [
        "# Imports\n",
        "import numpy as np\n",
        "import keras\n",
        "from keras.datasets import imdb\n",
        "from keras.models import Sequential\n",
        "from keras.layers import Dense, Dropout, Activation\n",
        "from keras.preprocessing.text import Tokenizer\n",
        "import matplotlib.pyplot as plt\n",
        "%matplotlib inline\n",
        "\n",
        "np.random.seed(42)"
      ],
      "execution_count": 0,
      "outputs": []
    },
    {
      "cell_type": "markdown",
      "metadata": {
        "id": "WLkK3Y_c-tZt",
        "colab_type": "text"
      },
      "source": [
        "## 1. Loading the data\n",
        "This dataset comes preloaded with Keras, so one simple command will get us training and testing data. There is a parameter for how many words we want to look at. We've set it at 1000, but feel free to experiment."
      ]
    },
    {
      "cell_type": "code",
      "metadata": {
        "id": "UHi0wXyk_tFG",
        "colab_type": "code",
        "colab": {}
      },
      "source": [
        "# save np.load\n",
        "np_load_old = np.load\n",
        "\n",
        "# modify the default parameters of np.load\n",
        "np.load = lambda *a,**k: np_load_old(*a, allow_pickle=True, **k)"
      ],
      "execution_count": 0,
      "outputs": []
    },
    {
      "cell_type": "code",
      "metadata": {
        "id": "pEXtU2MX-tZt",
        "colab_type": "code",
        "colab": {
          "base_uri": "https://localhost:8080/",
          "height": 54
        },
        "outputId": "1c9ea93d-883f-472c-bddb-c98391a71199"
      },
      "source": [
        "# Loading the data (it's preloaded in Keras)\n",
        "(x_train, y_train), (x_test, y_test) = imdb.load_data(num_words=1000)\n",
        "\n",
        "print(x_train.shape)\n",
        "print(x_test.shape)"
      ],
      "execution_count": 8,
      "outputs": [
        {
          "output_type": "stream",
          "text": [
            "(25000,)\n",
            "(25000,)\n"
          ],
          "name": "stdout"
        }
      ]
    },
    {
      "cell_type": "markdown",
      "metadata": {
        "id": "QvK8Zj90-tZx",
        "colab_type": "text"
      },
      "source": [
        "## 2. Examining the data\n",
        "Notice that the data has been already pre-processed, where all the words have numbers, and the reviews come in as a vector with the words that the review contains. For example, if the word 'the' is the first one in our dictionary, and a review contains the word 'the', then there is a 1 in the corresponding vector.\n",
        "\n",
        "The output comes as a vector of 1's and 0's, where 1 is a positive sentiment for the review, and 0 is negative."
      ]
    },
    {
      "cell_type": "code",
      "metadata": {
        "id": "obUEPaJc-tZy",
        "colab_type": "code",
        "colab": {
          "base_uri": "https://localhost:8080/",
          "height": 74
        },
        "outputId": "2200b7b6-0e07-4e5e-c7fe-e09c7370742a"
      },
      "source": [
        "print(x_train[0])\n",
        "print(y_train[0])"
      ],
      "execution_count": 9,
      "outputs": [
        {
          "output_type": "stream",
          "text": [
            "[1, 14, 22, 16, 43, 530, 973, 2, 2, 65, 458, 2, 66, 2, 4, 173, 36, 256, 5, 25, 100, 43, 838, 112, 50, 670, 2, 9, 35, 480, 284, 5, 150, 4, 172, 112, 167, 2, 336, 385, 39, 4, 172, 2, 2, 17, 546, 38, 13, 447, 4, 192, 50, 16, 6, 147, 2, 19, 14, 22, 4, 2, 2, 469, 4, 22, 71, 87, 12, 16, 43, 530, 38, 76, 15, 13, 2, 4, 22, 17, 515, 17, 12, 16, 626, 18, 2, 5, 62, 386, 12, 8, 316, 8, 106, 5, 4, 2, 2, 16, 480, 66, 2, 33, 4, 130, 12, 16, 38, 619, 5, 25, 124, 51, 36, 135, 48, 25, 2, 33, 6, 22, 12, 215, 28, 77, 52, 5, 14, 407, 16, 82, 2, 8, 4, 107, 117, 2, 15, 256, 4, 2, 7, 2, 5, 723, 36, 71, 43, 530, 476, 26, 400, 317, 46, 7, 4, 2, 2, 13, 104, 88, 4, 381, 15, 297, 98, 32, 2, 56, 26, 141, 6, 194, 2, 18, 4, 226, 22, 21, 134, 476, 26, 480, 5, 144, 30, 2, 18, 51, 36, 28, 224, 92, 25, 104, 4, 226, 65, 16, 38, 2, 88, 12, 16, 283, 5, 16, 2, 113, 103, 32, 15, 16, 2, 19, 178, 32]\n",
            "1\n"
          ],
          "name": "stdout"
        }
      ]
    },
    {
      "cell_type": "markdown",
      "metadata": {
        "id": "sEkkLB9l-tZz",
        "colab_type": "text"
      },
      "source": [
        "## 3. One-hot encoding the output\n",
        "Here, we'll turn the input vectors into (0,1)-vectors. For example, if the pre-processed vector contains the number 14, then in the processed vector, the 14th entry will be 1."
      ]
    },
    {
      "cell_type": "code",
      "metadata": {
        "id": "8Jd8Riv7-tZ0",
        "colab_type": "code",
        "colab": {
          "base_uri": "https://localhost:8080/",
          "height": 781
        },
        "outputId": "fcbd951c-9705-4959-a8e7-01820c9a1660"
      },
      "source": [
        "# One-hot encoding the output into vector mode, each of length 1000\n",
        "tokenizer = Tokenizer(num_words=1000)\n",
        "x_train = tokenizer.sequences_to_matrix(x_train, mode='binary')\n",
        "x_test = tokenizer.sequences_to_matrix(x_test, mode='binary')\n",
        "print(x_train[0])"
      ],
      "execution_count": 10,
      "outputs": [
        {
          "output_type": "stream",
          "text": [
            "[0. 1. 1. 0. 1. 1. 1. 1. 1. 1. 0. 0. 1. 1. 1. 1. 1. 1. 1. 1. 0. 1. 1. 0.\n",
            " 0. 1. 1. 0. 1. 0. 1. 0. 1. 1. 0. 1. 1. 0. 1. 1. 0. 0. 0. 1. 0. 0. 1. 0.\n",
            " 1. 0. 1. 1. 1. 0. 0. 0. 1. 0. 0. 0. 0. 0. 1. 0. 0. 1. 1. 0. 0. 0. 0. 1.\n",
            " 0. 0. 0. 0. 1. 1. 0. 0. 0. 0. 1. 0. 0. 0. 0. 1. 1. 0. 0. 0. 1. 0. 0. 0.\n",
            " 0. 0. 1. 0. 1. 0. 0. 1. 1. 0. 1. 1. 0. 0. 0. 0. 1. 1. 0. 0. 0. 1. 0. 0.\n",
            " 0. 0. 0. 0. 1. 0. 0. 0. 0. 0. 1. 0. 0. 0. 1. 1. 0. 0. 0. 0. 0. 1. 0. 0.\n",
            " 1. 0. 0. 1. 0. 0. 1. 0. 0. 0. 0. 0. 0. 0. 0. 0. 0. 0. 0. 0. 0. 0. 0. 1.\n",
            " 0. 0. 0. 0. 1. 1. 0. 0. 0. 0. 1. 0. 0. 0. 0. 0. 0. 0. 0. 0. 0. 0. 0. 0.\n",
            " 1. 0. 1. 0. 0. 0. 0. 0. 0. 0. 0. 0. 0. 0. 0. 0. 0. 0. 0. 0. 0. 0. 0. 1.\n",
            " 0. 0. 0. 0. 0. 0. 0. 0. 1. 0. 1. 0. 0. 0. 0. 0. 0. 0. 0. 0. 0. 0. 0. 0.\n",
            " 0. 0. 0. 0. 0. 0. 0. 0. 0. 0. 0. 0. 0. 0. 0. 0. 1. 0. 0. 0. 0. 0. 0. 0.\n",
            " 0. 0. 0. 0. 0. 0. 0. 0. 0. 0. 0. 0. 0. 0. 0. 0. 0. 0. 0. 1. 1. 0. 0. 0.\n",
            " 0. 0. 0. 0. 0. 0. 0. 0. 0. 1. 0. 0. 0. 0. 0. 0. 0. 0. 0. 0. 0. 0. 0. 0.\n",
            " 0. 0. 0. 0. 1. 1. 0. 0. 0. 0. 0. 0. 0. 0. 0. 0. 0. 0. 0. 0. 0. 0. 0. 0.\n",
            " 1. 0. 0. 0. 0. 0. 0. 0. 0. 0. 0. 0. 0. 0. 0. 0. 0. 0. 0. 0. 0. 0. 0. 0.\n",
            " 0. 0. 0. 0. 0. 0. 0. 0. 0. 0. 0. 0. 0. 0. 0. 0. 0. 0. 0. 0. 0. 1. 0. 0.\n",
            " 0. 1. 1. 0. 0. 0. 0. 0. 0. 0. 0. 0. 0. 0. 0. 0. 1. 0. 0. 0. 0. 0. 0. 1.\n",
            " 0. 0. 0. 0. 0. 0. 0. 0. 0. 0. 0. 0. 0. 0. 0. 0. 0. 0. 0. 0. 0. 0. 0. 0.\n",
            " 0. 0. 0. 0. 0. 0. 0. 0. 0. 0. 0. 0. 0. 0. 0. 1. 0. 0. 0. 0. 0. 0. 0. 0.\n",
            " 0. 0. 1. 0. 0. 0. 0. 0. 0. 0. 0. 0. 0. 1. 0. 0. 0. 0. 0. 0. 1. 0. 0. 0.\n",
            " 1. 0. 0. 0. 0. 0. 0. 0. 0. 0. 0. 0. 0. 0. 0. 0. 0. 0. 0. 0. 0. 0. 0. 0.\n",
            " 0. 0. 0. 0. 0. 0. 0. 0. 0. 0. 0. 1. 0. 0. 0. 0. 0. 0. 0. 0. 0. 0. 0. 0.\n",
            " 0. 0. 1. 0. 0. 0. 0. 0. 0. 0. 0. 0. 0. 0. 0. 0. 0. 0. 1. 0. 0. 0. 0. 0.\n",
            " 0. 0. 0. 0. 0. 0. 0. 0. 0. 0. 0. 0. 0. 0. 0. 0. 0. 0. 0. 0. 0. 0. 0. 0.\n",
            " 0. 0. 0. 0. 0. 0. 0. 0. 0. 0. 0. 0. 0. 0. 0. 0. 0. 0. 0. 0. 0. 0. 0. 0.\n",
            " 0. 0. 0. 0. 0. 0. 0. 0. 0. 0. 0. 0. 0. 0. 0. 0. 0. 0. 0. 1. 0. 0. 0. 0.\n",
            " 0. 0. 1. 0. 0. 0. 0. 0. 0. 0. 0. 0. 0. 0. 0. 0. 0. 0. 0. 0. 0. 0. 0. 0.\n",
            " 0. 0. 0. 0. 0. 0. 0. 0. 0. 0. 0. 0. 0. 0. 0. 0. 0. 0. 0. 0. 0. 0. 1. 0.\n",
            " 0. 0. 0. 0. 0. 0. 0. 0. 0. 0. 0. 0. 0. 0. 0. 0. 0. 0. 0. 0. 0. 0. 0. 0.\n",
            " 0. 0. 0. 0. 0. 0. 0. 0. 0. 0. 0. 0. 0. 0. 0. 0. 0. 0. 0. 0. 0. 0. 0. 0.\n",
            " 0. 0. 0. 1. 0. 0. 0. 0. 0. 0. 0. 0. 0. 0. 0. 0. 0. 0. 0. 0. 0. 0. 0. 0.\n",
            " 0. 0. 0. 0. 0. 0. 0. 0. 0. 0. 0. 0. 0. 0. 0. 0. 0. 0. 0. 0. 0. 0. 0. 0.\n",
            " 0. 0. 0. 0. 0. 0. 0. 0. 0. 0. 0. 0. 0. 0. 0. 0. 0. 0. 0. 0. 0. 0. 0. 0.\n",
            " 0. 0. 0. 0. 0. 0. 0. 0. 0. 0. 0. 0. 0. 0. 0. 0. 0. 0. 0. 0. 0. 0. 0. 0.\n",
            " 0. 0. 0. 0. 0. 0. 0. 0. 0. 0. 0. 0. 0. 0. 0. 0. 0. 0. 0. 0. 0. 0. 1. 0.\n",
            " 0. 0. 0. 0. 0. 0. 0. 0. 0. 0. 0. 0. 0. 0. 0. 0. 0. 0. 0. 0. 0. 0. 0. 0.\n",
            " 0. 0. 0. 0. 0. 0. 0. 0. 0. 0. 0. 0. 0. 0. 0. 0. 0. 0. 0. 0. 0. 0. 0. 0.\n",
            " 0. 0. 0. 0. 0. 0. 0. 0. 0. 0. 0. 0. 0. 0. 0. 0. 0. 0. 0. 0. 0. 0. 0. 0.\n",
            " 0. 0. 0. 0. 0. 0. 0. 0. 0. 0. 0. 0. 0. 0. 0. 0. 0. 0. 0. 0. 0. 0. 0. 0.\n",
            " 0. 0. 0. 0. 0. 0. 0. 0. 0. 0. 0. 0. 0. 0. 0. 0. 0. 0. 0. 0. 0. 0. 0. 0.\n",
            " 0. 0. 0. 0. 0. 0. 0. 0. 0. 0. 0. 0. 0. 1. 0. 0. 0. 0. 0. 0. 0. 0. 0. 0.\n",
            " 0. 0. 0. 0. 0. 0. 0. 0. 0. 0. 0. 0. 0. 0. 0. 0.]\n"
          ],
          "name": "stdout"
        }
      ]
    },
    {
      "cell_type": "markdown",
      "metadata": {
        "id": "FT8X_Uz9-tZ2",
        "colab_type": "text"
      },
      "source": [
        "And we'll also one-hot encode the output."
      ]
    },
    {
      "cell_type": "code",
      "metadata": {
        "id": "rAIhObXo-tZ3",
        "colab_type": "code",
        "colab": {
          "base_uri": "https://localhost:8080/",
          "height": 54
        },
        "outputId": "5a1eef27-4e06-4fa5-ec0a-26df8a520632"
      },
      "source": [
        "# One-hot encoding the output\n",
        "num_classes = 2\n",
        "y_train = keras.utils.to_categorical(y_train, num_classes)\n",
        "y_test = keras.utils.to_categorical(y_test, num_classes)\n",
        "print(y_train.shape)\n",
        "print(y_test.shape)"
      ],
      "execution_count": 11,
      "outputs": [
        {
          "output_type": "stream",
          "text": [
            "(25000, 2)\n",
            "(25000, 2)\n"
          ],
          "name": "stdout"
        }
      ]
    },
    {
      "cell_type": "markdown",
      "metadata": {
        "id": "M4HRszJM-tZ5",
        "colab_type": "text"
      },
      "source": [
        "## 4. Building the  model architecture\n",
        "Build a model here using sequential. Feel free to experiment with different layers and sizes! Also, experiment adding dropout to reduce overfitting."
      ]
    },
    {
      "cell_type": "code",
      "metadata": {
        "id": "eABTsgxo-tZ5",
        "colab_type": "code",
        "colab": {
          "base_uri": "https://localhost:8080/",
          "height": 399
        },
        "outputId": "197395c1-c202-409b-fa15-7e80582b5d85"
      },
      "source": [
        "# TODO: Build the model architecture\n",
        "# Building the model\n",
        "model = Sequential()\n",
        "model.add(Dense(256, activation='sigmoid', input_shape=(x_train.shape[1],)))\n",
        "model.add(Dropout(.25))\n",
        "model.add(Dense(128, activation='sigmoid'))\n",
        "model.add(Dropout(.2))\n",
        "model.add(Dense(64, activation='sigmoid'))\n",
        "model.add(Dropout(.15))\n",
        "model.add(Dense(2, activation='softmax'))\n",
        "\n",
        "# TODO: Compile the model using a loss function and an optimizer.\n",
        "model.compile(loss = 'categorical_crossentropy', optimizer='rmsprop', metrics=['accuracy'])\n",
        "model.summary()"
      ],
      "execution_count": 15,
      "outputs": [
        {
          "output_type": "stream",
          "text": [
            "_________________________________________________________________\n",
            "Layer (type)                 Output Shape              Param #   \n",
            "=================================================================\n",
            "dense_5 (Dense)              (None, 256)               256256    \n",
            "_________________________________________________________________\n",
            "dropout_4 (Dropout)          (None, 256)               0         \n",
            "_________________________________________________________________\n",
            "dense_6 (Dense)              (None, 128)               32896     \n",
            "_________________________________________________________________\n",
            "dropout_5 (Dropout)          (None, 128)               0         \n",
            "_________________________________________________________________\n",
            "dense_7 (Dense)              (None, 64)                8256      \n",
            "_________________________________________________________________\n",
            "dropout_6 (Dropout)          (None, 64)                0         \n",
            "_________________________________________________________________\n",
            "dense_8 (Dense)              (None, 2)                 130       \n",
            "=================================================================\n",
            "Total params: 297,538\n",
            "Trainable params: 297,538\n",
            "Non-trainable params: 0\n",
            "_________________________________________________________________\n"
          ],
          "name": "stdout"
        }
      ]
    },
    {
      "cell_type": "markdown",
      "metadata": {
        "id": "hw4s5IPp-tZ7",
        "colab_type": "text"
      },
      "source": [
        "## 5. Training the model\n",
        "Run the model here. Experiment with different batch_size, and number of epochs!"
      ]
    },
    {
      "cell_type": "code",
      "metadata": {
        "id": "ViaSDSO--tZ8",
        "colab_type": "code",
        "colab": {
          "base_uri": "https://localhost:8080/",
          "height": 1000
        },
        "outputId": "229e1a78-97c9-456f-df08-35101a88f31a"
      },
      "source": [
        "# TODO: Run the model. Feel free to experiment with different batch sizes and number of epochs.\n",
        "model.fit(x_train, y_train, epochs=30, batch_size=512, verbose=1)"
      ],
      "execution_count": 17,
      "outputs": [
        {
          "output_type": "stream",
          "text": [
            "Epoch 1/30\n",
            "25000/25000 [==============================] - 1s 51us/step - loss: 0.3617 - acc: 0.8438\n",
            "Epoch 2/30\n",
            "25000/25000 [==============================] - 1s 50us/step - loss: 0.3456 - acc: 0.8514\n",
            "Epoch 3/30\n",
            "25000/25000 [==============================] - 1s 51us/step - loss: 0.3395 - acc: 0.8564\n",
            "Epoch 4/30\n",
            "25000/25000 [==============================] - 1s 50us/step - loss: 0.3247 - acc: 0.8637\n",
            "Epoch 5/30\n",
            "25000/25000 [==============================] - 1s 52us/step - loss: 0.3253 - acc: 0.8640\n",
            "Epoch 6/30\n",
            "25000/25000 [==============================] - 1s 50us/step - loss: 0.3166 - acc: 0.8663\n",
            "Epoch 7/30\n",
            "25000/25000 [==============================] - 1s 51us/step - loss: 0.3134 - acc: 0.8682\n",
            "Epoch 8/30\n",
            "25000/25000 [==============================] - 1s 51us/step - loss: 0.3111 - acc: 0.8714\n",
            "Epoch 9/30\n",
            "25000/25000 [==============================] - 1s 51us/step - loss: 0.3120 - acc: 0.8680\n",
            "Epoch 10/30\n",
            "25000/25000 [==============================] - 1s 51us/step - loss: 0.3068 - acc: 0.8716\n",
            "Epoch 11/30\n",
            "25000/25000 [==============================] - 1s 51us/step - loss: 0.3025 - acc: 0.8730\n",
            "Epoch 12/30\n",
            "25000/25000 [==============================] - 1s 51us/step - loss: 0.3029 - acc: 0.8719\n",
            "Epoch 13/30\n",
            "25000/25000 [==============================] - 1s 52us/step - loss: 0.3013 - acc: 0.8751\n",
            "Epoch 14/30\n",
            "25000/25000 [==============================] - 1s 50us/step - loss: 0.2997 - acc: 0.8770\n",
            "Epoch 15/30\n",
            "25000/25000 [==============================] - 1s 51us/step - loss: 0.2991 - acc: 0.8747\n",
            "Epoch 16/30\n",
            "25000/25000 [==============================] - 1s 51us/step - loss: 0.2958 - acc: 0.8760\n",
            "Epoch 17/30\n",
            "25000/25000 [==============================] - 1s 52us/step - loss: 0.2947 - acc: 0.8760\n",
            "Epoch 18/30\n",
            "25000/25000 [==============================] - 1s 51us/step - loss: 0.2919 - acc: 0.8782\n",
            "Epoch 19/30\n",
            "25000/25000 [==============================] - 1s 51us/step - loss: 0.2883 - acc: 0.8794\n",
            "Epoch 20/30\n",
            "25000/25000 [==============================] - 1s 51us/step - loss: 0.2903 - acc: 0.8781\n",
            "Epoch 21/30\n",
            "25000/25000 [==============================] - 1s 51us/step - loss: 0.2879 - acc: 0.8795\n",
            "Epoch 22/30\n",
            "25000/25000 [==============================] - 1s 50us/step - loss: 0.2855 - acc: 0.8807\n",
            "Epoch 23/30\n",
            "25000/25000 [==============================] - 1s 51us/step - loss: 0.2852 - acc: 0.8799\n",
            "Epoch 24/30\n",
            "25000/25000 [==============================] - 1s 50us/step - loss: 0.2844 - acc: 0.8821\n",
            "Epoch 25/30\n",
            "25000/25000 [==============================] - 1s 51us/step - loss: 0.2813 - acc: 0.8820\n",
            "Epoch 26/30\n",
            "25000/25000 [==============================] - 1s 50us/step - loss: 0.2797 - acc: 0.8824\n",
            "Epoch 27/30\n",
            "25000/25000 [==============================] - 1s 51us/step - loss: 0.2778 - acc: 0.8832\n",
            "Epoch 28/30\n",
            "25000/25000 [==============================] - 1s 50us/step - loss: 0.2765 - acc: 0.8834\n",
            "Epoch 29/30\n",
            "25000/25000 [==============================] - 1s 52us/step - loss: 0.2753 - acc: 0.8849\n",
            "Epoch 30/30\n",
            "25000/25000 [==============================] - 1s 50us/step - loss: 0.2735 - acc: 0.8834\n"
          ],
          "name": "stdout"
        },
        {
          "output_type": "execute_result",
          "data": {
            "text/plain": [
              "<keras.callbacks.History at 0x7f1292a832e8>"
            ]
          },
          "metadata": {
            "tags": []
          },
          "execution_count": 17
        }
      ]
    },
    {
      "cell_type": "markdown",
      "metadata": {
        "id": "I9dHaWqk-tZ_",
        "colab_type": "text"
      },
      "source": [
        "## 6. Evaluating the model\n",
        "This will give you the accuracy of the model, as evaluated on the testing set. Can you get something over 85%?"
      ]
    },
    {
      "cell_type": "code",
      "metadata": {
        "id": "FJC8CxFR-taB",
        "colab_type": "code",
        "colab": {
          "base_uri": "https://localhost:8080/",
          "height": 35
        },
        "outputId": "ab34f5ac-0226-42e2-f2d2-e161bc790e20"
      },
      "source": [
        "score = model.evaluate(x_test, y_test, verbose=0)\n",
        "print(\"Accuracy: \", score[1])"
      ],
      "execution_count": 18,
      "outputs": [
        {
          "output_type": "stream",
          "text": [
            "Accuracy:  0.85992\n"
          ],
          "name": "stdout"
        }
      ]
    }
  ]
}